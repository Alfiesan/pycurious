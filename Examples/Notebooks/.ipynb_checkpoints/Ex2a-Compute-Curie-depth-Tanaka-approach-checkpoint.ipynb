{
 "cells": [
  {
   "cell_type": "markdown",
   "metadata": {},
   "source": [
    "# Example 2a - Compute Curie depth (Tanaka approach)\n",
    "Tanaka *et al.* (1999) based their method upon an expression for the radial power spectrum that assumes random magnetisation of the crust, and a radially averaged power spectra $\\Phi_{\\Delta T}(|k|)$:\n",
    "\n",
    "$$(1) \\Phi_{\\Delta T}(|k|)=Ae^{-2|k|Z_t}(1-e^{-|k|(Z_b-Z_t)})^2$$\n",
    "\n",
    "where:\n",
    " - $k$ - spatial wavenumber ($k=2\\pi/\\lambda$, where $\\lambda$ is wavelength).\n",
    " - $Z_t$ - top of assumed magnetic source.\n",
    " - $Z_b$ - bottom of assumed magnetic source.\n",
    " - ($Z_b-Z_t$ is hence the thickness of the magnetic source)\n",
    "\n",
    "For wavelengths less than twice the source thickness, this simplifies to:\n",
    "\n",
    "$$(2) \\ln [\\Phi_{\\Delta T}(|k|)^{1/2}] = \\ln B-|k|Z_t $$\n",
    "\n",
    "where $B$ is another constant. Conversely, (1) can be rewritten, with $Z_o$ as the centroid depth of the magnetic source:\n",
    "\n",
    "$$(3) \\Phi_{\\Delta T}(|k|)^{1/2} = Ce^{-|k|Z_o}(e^{-|k|(Z_t-Z_o)}-e^{-|k|(Z_b-Z_o)}) $$\n",
    "\n",
    "For long wavelengths, where $2d$ is the magnetic source thickness:\n",
    "$$(4) \\Phi_{\\Delta T}(|k|)^{1/2} = Ce^{-|k|Z_o}(e^{-|k|(-d)}-e^{-|k|(-d)})\\approx Ce^{-|k|Z_o}2|k|d $$\n",
    "\n",
    "$$ \\ln \\{\\Phi_{\\Delta T}(|k|)^{1/2}/|k|\\}=\\ln D-|k|Z_o  $$\n",
    "\n",
    "\n",
    "Estimates of $Z_t$ and $Z_o$ can be estimated from Equations (2) and (5), and hence the base of the magnetic source (assumed to be at the Curie point depth):\n",
    "\n",
    "$$(6) Z_b=Z_o-(Z_t-Z_o) = 2Z_o-Z_t $$\n",
    "\n",
    "### Contents\n",
    "\n",
    "- [Plot radial power spectrum](#Plot-radial-power-spectrum)\n",
    "- [Compute CPD Estimate](#Compute-cpd-estimate)"
   ]
  },
  {
   "cell_type": "code",
   "execution_count": 10,
   "metadata": {},
   "outputs": [],
   "source": [
    "import numpy as np\n",
    "import matplotlib.pyplot as plt\n",
    "%matplotlib inline\n",
    "\n",
    "import pycurious"
   ]
  },
  {
   "cell_type": "code",
   "execution_count": 3,
   "metadata": {},
   "outputs": [],
   "source": [
    "# load x,y,anomaly\n",
    "mag_data = np.loadtxt(\"../data/test_mag_data.txt\")\n",
    "\n",
    "nx, ny = 305, 305\n",
    "\n",
    "x = mag_data[:,0]\n",
    "y = mag_data[:,1]\n",
    "d = mag_data[:,2].reshape(ny,nx)\n",
    "\n",
    "xmin, xmax = x.min(), x.max()\n",
    "ymin, ymax = y.min(), y.max()"
   ]
  },
  {
   "cell_type": "markdown",
   "metadata": {},
   "source": [
    "## Plot radial power spectrum\n",
    "The radial power spectrum is computed from a square window of the magnetic anomaly. Methods to select window sizes and compute the Fast Fourier Transform (FFT) belong to the `CurieGrid` object. We apply the default `np.hanning` taper to the power spectrum as in [Ex1-Plot-power-spectrum](#./Ex1-Plot-power-spectrum.ipynb)."
   ]
  },
  {
   "cell_type": "code",
   "execution_count": 6,
   "metadata": {},
   "outputs": [],
   "source": [
    "# initialise CurieOptimise object\n",
    "grid = pycurious.CurieOptimise(d, xmin, xmax, ymin, ymax)\n",
    "#grid = pycurious.CurieGrid(d, xmin, xmax, ymin, ymax)\n",
    "\n",
    "# pick the centroid\n",
    "xpt = 0.5*(xmin + xmax)\n",
    "ypt = 0.5*(ymin + ymax)\n",
    "\n",
    "window_size = 304e3\n",
    "subgrid = grid.subgrid(xpt, ypt, window_size)"
   ]
  },
  {
   "cell_type": "code",
   "execution_count": 35,
   "metadata": {},
   "outputs": [
    {
     "data": {
      "text/plain": [
       "Text(0,0.5,u'$\\\\ln(\\\\Phi_{\\\\Delta T}(|k|)^{1/2})/(2\\\\pi)$')"
      ]
     },
     "execution_count": 35,
     "metadata": {},
     "output_type": "execute_result"
    },
    {
     "data": {
      "image/png": "[encoded data removed]",
      "text/plain": [
       "<matplotlib.figure.Figure at 0x7f812434fed0>"
      ]
     },
     "metadata": {},
     "output_type": "display_data"
    }
   ],
   "source": [
    "S, k, sigma2 = grid.radial_spectrum_log(subgrid)\n",
    "\n",
    "# Plot of power spectrum, as function of spatial frequency\n",
    "plt.plot(k/(2*np.pi), S/(2*np.pi), '-o')\n",
    "plt.title('Power Spectrum')\n",
    "plt.xlabel(r'$|k|/(2\\pi)$ [km$^{-1}$]')\n",
    "plt.ylabel(r'$\\ln(\\Phi_{\\Delta T}(|k|)^{1/2})/(2\\pi)$')"
   ]
  },
  {
   "cell_type": "code",
   "execution_count": 31,
   "metadata": {},
   "outputs": [
    {
     "data": {
      "text/plain": [
       "Text(0,0.5,u'$\\\\ln(\\\\Phi_{\\\\Delta T}(|k|)^{1/2}/|k|)/(2\\\\pi)$')"
      ]
     },
     "execution_count": 31,
     "metadata": {},
     "output_type": "execute_result"
    },
    {
     "data": {
      "image/png": "[encoded data removed]",
      "text/plain": [
       "<matplotlib.figure.Figure at 0x7f812434fe10>"
      ]
     },
     "metadata": {},
     "output_type": "display_data"
    }
   ],
   "source": [
    "Sn=np.log(np.exp(S)/k)\n",
    "plt.plot(k/(2*np.pi), Sn/(2*np.pi), '-o')\n",
    "plt.title('Power Spectrum, weighted by k')\n",
    "plt.xlabel(r'$|k|/(2\\pi)$ [km$^{-1}$]')\n",
    "plt.ylabel(r'$\\ln(\\Phi_{\\Delta T}(|k|)^{1/2}/|k|)/(2\\pi)$')"
   ]
  },
  {
   "cell_type": "markdown",
   "metadata": {},
   "source": [
    "## Compute CPD Estimate\n",
    "As described above, once the power spectrum (and weighted spectrum) are computed, then the gradient of linear fits of certain wavenumber/spatial frequency windows can be taken as estimates of $Z_t$ and $Z_o$. The weighted linear fitting of the respective spectral window is implemented in the `CurieGrid` parent class as `tanaka1999`, and takes the spectrum, wave number, and spectrum error as inputs. The function also has functionality to pass specific spectral windows for each spectra, however, the default is to consider spatial frequencies of 0.05 - 0.2 (recalling that $k$, the wavenumber, is proportional to the spatial frequency $\\nu$ by $k=2\\pi\\nu$).\n",
    "\n",
    "\n",
    "The function has two returns: the estimate of $Z_b$, and the propagated uncertainty $\\varepsilon_{Zb}$."
   ]
  },
  {
   "cell_type": "code",
   "execution_count": 43,
   "metadata": {
    "scrolled": true
   },
   "outputs": [
    {
     "name": "stdout",
     "output_type": "stream",
     "text": [
      "Zb estimate: 23.35771952, +/- 6.77365143 km\n"
     ]
    }
   ],
   "source": [
    "[Zb,ezb]=pycurious.tanaka1999(S, k, sigma2)\n",
    "print('Zb estimate: '+np.array2string(Zb)+', +/- '+np.array2string(ezb)+' km')"
   ]
  }
 ],
 "metadata": {
  "kernelspec": {
   "display_name": "Python 2",
   "language": "python",
   "name": "python2"
  },
  "language_info": {
   "codemirror_mode": {
    "name": "ipython",
    "version": 2
   },
   "file_extension": ".py",
   "mimetype": "text/x-python",
   "name": "python",
   "nbconvert_exporter": "python",
   "pygments_lexer": "ipython2",
   "version": "2.7.15rc1"
  }
 },
 "nbformat": 4,
 "nbformat_minor": 2
}
