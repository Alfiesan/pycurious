{
 "cells": [
  {
   "cell_type": "markdown",
   "metadata": {},
   "source": [
    "# Example 4 - Mapping Curie depth from EMAG2\n",
    "\n",
    "Using global compilations of the magnetic anomaly, such as EMAG2, means there is no limitation on window sizes. The mapping module in *PyCurious* has several functions to simplify:\n",
    "\n",
    "1. Translating between Coordinate Reference Systems (CRS)\n",
    "2. Griding scattered point data\n",
    "3. Importing and exporting Geotiffs\n",
    "\n",
    "These can be accessed from `pycurious.mapping`\n",
    "\n",
    "This requires some extra dependencies:\n",
    "\n",
    "- pyproj\n",
    "- pyepsg\n",
    "- cartopy (for visualisation)\n",
    "\n",
    "which can be installed via `pip`\n",
    "\n",
    "```bash\n",
    "pip install [--user] pyproj pyepsg cartopy\n",
    "```"
   ]
  },
  {
   "cell_type": "code",
   "execution_count": null,
   "metadata": {},
   "outputs": [],
   "source": [
    "import numpy as np\n",
    "import matplotlib.pyplot as plt\n",
    "%matplotlib inline\n",
    "\n",
    "import pycurious\n",
    "\n",
    "import cartopy.crs as ccrs\n",
    "import cartopy.feature as cfeature\n",
    "import cartopy.io.shapereader as shpreader"
   ]
  }
 ],
 "metadata": {
  "kernelspec": {
   "display_name": "Python 2",
   "language": "python",
   "name": "python2"
  },
  "language_info": {
   "codemirror_mode": {
    "name": "ipython",
    "version": 2
   },
   "file_extension": ".py",
   "mimetype": "text/x-python",
   "name": "python",
   "nbconvert_exporter": "python",
   "pygments_lexer": "ipython2",
   "version": "2.7.15"
  }
 },
 "nbformat": 4,
 "nbformat_minor": 2
}
