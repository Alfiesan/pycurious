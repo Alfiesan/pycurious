{
 "cells": [
  {
   "cell_type": "markdown",
   "metadata": {},
   "source": [
    "# Example 4 - Mapping Curie depth from EMAG2\n",
    "\n",
    "Using global compilations of the magnetic anomaly, such as EMAG2, means there is no limitation on window sizes. The mapping module in *PyCurious* has several functions to simplify:\n",
    "\n",
    "1. Translating between Coordinate Reference Systems (CRS)\n",
    "2. Griding scattered point data\n",
    "3. Importing and exporting Geotiffs\n",
    "\n",
    "These can be accessed from `pycurious.mapping`\n",
    "\n",
    "This requires some extra dependencies:\n",
    "\n",
    "- pyproj\n",
    "- pyepsg\n",
    "- cartopy (for visualisation)\n",
    "\n",
    "which can be installed via `pip`\n",
    "\n",
    "```shell\n",
    "pip install [--user] pyproj pyepsg cartopy\n",
    "```\n",
    "\n",
    "### Contents\n",
    "\n",
    "- [Import EMAG2 data](#Import-EMAG2-data)\n",
    "- [Interpolate onto grid projection](#Interpolate-onto-grid-projection)\n",
    "- [Compute Curie depth](#Compute-Curie-depth)\n",
    "- [Compare to reference models](#Compare-to-reference-models)"
   ]
  },
  {
   "cell_type": "code",
   "execution_count": null,
   "metadata": {},
   "outputs": [],
   "source": [
    "import numpy as np\n",
    "import matplotlib.pyplot as plt\n",
    "%matplotlib inline\n",
    "\n",
    "import pycurious\n",
    "\n",
    "import cartopy.crs as ccrs\n",
    "import cartopy.feature as cfeature\n",
    "import cartopy.io.shapereader as shpreader"
   ]
  },
  {
   "cell_type": "markdown",
   "metadata": {},
   "source": [
    "## Import EMAG2 data\n",
    "\n",
    "The latest data can be downloaded from the [NOAA web page](https://www.ngdc.noaa.gov/geomag/emag2.html) in CSV format. Download it to a local directory (may take some time).\n",
    "\n",
    "Once loaded, we trim the data to a region of interest - being careful to allow some buffer to accommodate the maximum window size. We save this to a compressed `.npz` file to avoid the costly repitition of reloading the same data in the future."
   ]
  },
  {
   "cell_type": "code",
   "execution_count": null,
   "metadata": {},
   "outputs": [],
   "source": [
    "filedir = '/path/to/directory/'\n",
    "\n",
    "try:\n",
    "    with np.load(filedir+'EMAG2_V3_20170530.npz') as f:\n",
    "        mag_data = f['data']\n",
    "except:\n",
    "    mag_data = np.loadtxt(filedir+'EMAG2_V3_20170530.csv', delimiter=',', usecols=(2,3,4,5,7))\n",
    "    lon_mask = mag_data[:,0] > 180.0\n",
    "    mag_data[lon_mask,0] -= 360.0\n",
    "    np.savez_compressed(filedir+'EMAG2_V3_20170530.npz', data=mag_data.astype(np.float32))"
   ]
  },
  {
   "cell_type": "code",
   "execution_count": null,
   "metadata": {},
   "outputs": [],
   "source": [
    "# filter NaNs\n",
    "mag_data = mag_data[mag_data[:,4] != 99999.]\n",
    "mag_data = mag_data[mag_data[:,4] != -888.]\n",
    "mag_data = mag_data[mag_data[:,4] != -999.]\n",
    "\n",
    "# print min/max\n",
    "mincols = mag_data.min(axis=0)\n",
    "maxcols = mag_data.max(axis=0)\n",
    "\n",
    "fmt = \"min/max {:5.2f} -> {:5.2f}\"\n",
    "for col in xrange(mag_data.shape[1]):\n",
    "    print(fmt.format(mincols[col], maxcols[col]))"
   ]
  },
  {
   "cell_type": "markdown",
   "metadata": {},
   "source": [
    "## Interpolate onto grid projection\n",
    "\n",
    "We choose an arbitrary section of the Earth's surface and a suitable projection. PyCurious handles transformation between different CRS using a EPSG reference code. EMAG2 is in lons and lats (in decimal degrees), which we want to convert into eastings and northings (in metres). For this example, we transform WGS84 coordinates (EPSG:4326) to the IRENET95 projection (EPSG:2157)."
   ]
  },
  {
   "cell_type": "code",
   "execution_count": null,
   "metadata": {},
   "outputs": [],
   "source": [
    "# grid extent - grid of the British Isles in Irenet 95 grid projection\n",
    "xmin = 250000.0\n",
    "xmax = 1400000.0\n",
    "ymin = 200000.0\n",
    "ymax = 1500000.0\n",
    "extent_grid = [xmin, xmax, ymin, ymax]\n",
    "\n",
    "# extent on the sphere (WGS84)\n",
    "extent_sphere = pycurious.mapping.convert_extent(extent_grid, epsg_in=4326, epsg_out=2157)\n",
    "\n",
    "# map extent - should be narrower than extent_sphere\n",
    "extent_map = [-10.8, 2, 49.5, 59]"
   ]
  },
  {
   "cell_type": "code",
   "execution_count": null,
   "metadata": {},
   "outputs": [],
   "source": [
    "dx, dy = 1e3, 1e3 # 1 km resolution\n",
    "nx, ny = int(round((xmax-xmin)/dx)), int(round((ymax-ymin)/dy))\n",
    "\n",
    "# interpolate onto grid extent (for computation)\n",
    "mag_grid = pycurious.mapping.grid(mag_data[:,:2], mag_data[:,3], extent, shape=(ny,nx), epsg_in=4326, epsg_out=2157)\n",
    "\n",
    "# interpolate onto extent on the sphere (for mapping)\n",
    "mag_sphere = pycurious.mapping.grid(mag_data[:,:2], mag_data[:,3], extent_sphere, shape=(ny,nx))"
   ]
  },
  {
   "cell_type": "code",
   "execution_count": null,
   "metadata": {},
   "outputs": [],
   "source": [
    "proj = ccrs.UTM(30)\n",
    "\n",
    "fig = plt.figure(figsize=(12,10))\n",
    "ax = plt.axes(projection=proj)\n",
    "ax.set_extent(map_extent)\n",
    "ax.coastlines(resolution='50m', linewidth=1.5)\n",
    "ax.gridlines()\n",
    "\n",
    "im1 = ax.imshow(mag_sphere, extent=extent_sphere, transform=ccrs.PlateCarree(),\n",
    "                vmin=-200, vmax=200, zorder=0)\n",
    "\n",
    "fig.colorbar(im1, label='nT')"
   ]
  },
  {
   "cell_type": "markdown",
   "metadata": {},
   "source": [
    "## Compute Curie depth\n",
    "\n",
    "For this example we use the Bouligand *et al.*, 2009 approach we outlined in [Ex3-Optimisation-routine](#./Ex3-Optimisation-routine.ipynb)."
   ]
  },
  {
   "cell_type": "code",
   "execution_count": null,
   "metadata": {},
   "outputs": [],
   "source": [
    "grid = pycurious.CurieOptimise(mag_grid, xmin, xmax, ymin, ymax)\n",
    "\n",
    "# centroid spacing of 20 km\n",
    "xc_list, yc_list = grid.create_centroid_list(200e3, spacingX=20e3, spacingY=20e3)\n",
    "print(\"number of centroids = {}\".format(len(xc_list)))\n",
    "\n",
    "beta, zt, dz, C = grid.optimise_routine(window_size, xc_list, yc_list)"
   ]
  },
  {
   "cell_type": "markdown",
   "metadata": {},
   "source": [
    "## Compare to reference models\n",
    "\n",
    "A global Curie depth reference model has been created by [Li *et al.*, 2017](https://www.nature.com/articles/srep45129), which is a useful resource to compare these results. Download the supplementary material from the open access [article](https://www.nature.com/articles/srep45129#supplementary-information) to the same directory as EMAG2."
   ]
  },
  {
   "cell_type": "code",
   "execution_count": null,
   "metadata": {},
   "outputs": [],
   "source": [
    "li_cpd = np.loadtxt(filedir + 'Li_2017_curiedepth.txt')\n",
    "li_cpd = li_cpd[~np.isnan(li_cpd[:,2])]\n",
    "\n",
    "li_grid = pycurious.grid(li_cpd[:,:2], li_cpd[:,2], extent_sphere, shape=(ny,nx))"
   ]
  },
  {
   "cell_type": "code",
   "execution_count": null,
   "metadata": {},
   "outputs": [],
   "source": [
    "proj = ccrs.UTM(30)\n",
    "\n",
    "fig = plt.figure(figsize=(12,10))\n",
    "ax = plt.axes(projection=proj)\n",
    "ax.set_extent(map_extent)\n",
    "ax.coastlines(resolution='50m', linewidth=1.5)\n",
    "ax.gridlines()\n",
    "\n",
    "im1 = ax.imshow(li_grid, extent=extent_sphere, transform=ccrs.PlateCarree(),\n",
    "                cmap='BrBG', zorder=0, vmin=10, vmax=40)\n",
    "\n",
    "fig.colorbar(im1, label='km')"
   ]
  }
 ],
 "metadata": {
  "kernelspec": {
   "display_name": "Python 2",
   "language": "python",
   "name": "python2"
  },
  "language_info": {
   "codemirror_mode": {
    "name": "ipython",
    "version": 2
   },
   "file_extension": ".py",
   "mimetype": "text/x-python",
   "name": "python",
   "nbconvert_exporter": "python",
   "pygments_lexer": "ipython2",
   "version": "2.7.15"
  }
 },
 "nbformat": 4,
 "nbformat_minor": 2
}
