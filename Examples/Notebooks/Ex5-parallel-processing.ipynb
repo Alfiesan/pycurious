{
 "cells": [
  {
   "cell_type": "markdown",
   "metadata": {},
   "source": [
    "# Example 5 - Parallel processing\n",
    "\n",
    "`CurieParallel` inherits from `CurieOptimise`, which, in turn, inherits from `CurieGrid`. Parallelism is handled by MPI via the Python interface, `mpi4py`.\n",
    "\n",
    "```bash\n",
    "pip install [--user] mpi4py\n",
    "```\n",
    "\n",
    "This requires an MPI implementation, such as [OpenMPI](https://www.open-mpi.org) or [MPICH](http://www.mpich.org/downloads), to be installed on the system.\n",
    "\n",
    "The parallel scheme operates by dividing a grid equally among processors with a shadow region equal to the maximum window size. This ensures that windows are not clipped close to the boundaries of the domain on any given processor."
   ]
  },
  {
   "cell_type": "code",
   "execution_count": null,
   "metadata": {},
   "outputs": [],
   "source": []
  }
 ],
 "metadata": {
  "kernelspec": {
   "display_name": "Python 2",
   "language": "python",
   "name": "python2"
  },
  "language_info": {
   "codemirror_mode": {
    "name": "ipython",
    "version": 2
   },
   "file_extension": ".py",
   "mimetype": "text/x-python",
   "name": "python",
   "nbconvert_exporter": "python",
   "pygments_lexer": "ipython2",
   "version": "2.7.15"
  }
 },
 "nbformat": 4,
 "nbformat_minor": 2
}
